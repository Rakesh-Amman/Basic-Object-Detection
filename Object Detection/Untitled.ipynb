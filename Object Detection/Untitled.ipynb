{
 "cells": [
  {
   "cell_type": "code",
   "execution_count": 24,
   "metadata": {},
   "outputs": [],
   "source": [
    "from imageai.Prediction  import ImagePrediction\n",
    "import os"
   ]
  },
  {
   "cell_type": "code",
   "execution_count": 25,
   "metadata": {},
   "outputs": [],
   "source": [
    "execution_path = r'C:\\Users\\Rakesh Amman\\Downloads\\image.jfif'"
   ]
  },
  {
   "cell_type": "code",
   "execution_count": 26,
   "metadata": {},
   "outputs": [],
   "source": [
    "prediction = ImagePrediction()\n",
    "prediction.setModelTypeAsResNet()"
   ]
  },
  {
   "cell_type": "code",
   "execution_count": 27,
   "metadata": {},
   "outputs": [],
   "source": [
    "prediction.setModelPath( r\"C:\\Users\\Rakesh Amman\\Downloads\\resnet50_weights_tf_dim_ordering_tf_kernels.h5\")"
   ]
  },
  {
   "cell_type": "code",
   "execution_count": 28,
   "metadata": {},
   "outputs": [],
   "source": [
    "prediction.loadModel()\n",
    "prediction,probabilities  = prediction.predictImage(execution_path)"
   ]
  },
  {
   "cell_type": "code",
   "execution_count": 39,
   "metadata": {},
   "outputs": [
    {
     "name": "stdout",
     "output_type": "stream",
     "text": [
      "sports_car\n",
      "racer\n",
      "car_wheel\n",
      "tow_truck\n",
      "pickup\n",
      "59.51001048088074\n",
      "32.05551505088806\n",
      "2.3537494242191315\n",
      "1.45240044221282\n",
      "0.7718887645751238\n"
     ]
    }
   ],
   "source": [
    "for i in prediction:\n",
    "    print(i)\n",
    "\n",
    "for j in probabilities:\n",
    "    print (j)"
   ]
  },
  {
   "cell_type": "code",
   "execution_count": null,
   "metadata": {},
   "outputs": [],
   "source": []
  }
 ],
 "metadata": {
  "kernelspec": {
   "display_name": "Python 3",
   "language": "python",
   "name": "python3"
  },
  "language_info": {
   "codemirror_mode": {
    "name": "ipython",
    "version": 3
   },
   "file_extension": ".py",
   "mimetype": "text/x-python",
   "name": "python",
   "nbconvert_exporter": "python",
   "pygments_lexer": "ipython3",
   "version": "3.7.3"
  }
 },
 "nbformat": 4,
 "nbformat_minor": 2
}
