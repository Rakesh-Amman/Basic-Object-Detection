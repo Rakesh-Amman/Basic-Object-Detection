{
 "cells": [
  {
   "cell_type": "code",
   "execution_count": 10,
   "metadata": {},
   "outputs": [],
   "source": [
    "from imageai.Detection import ObjectDetection\n",
    "import os"
   ]
  },
  {
   "cell_type": "code",
   "execution_count": 3,
   "metadata": {},
   "outputs": [],
   "source": [
    "execution_path = r\"C:\\Users\\Rakesh Amman\\Desktop\\CNN\\Object Detection\""
   ]
  },
  {
   "cell_type": "code",
   "execution_count": 11,
   "metadata": {},
   "outputs": [],
   "source": [
    "#Instance of object detection class\n",
    "detector = ObjectDetection()\n",
    "\n",
    "#Setting the Object Detection instance to retinanet model\n",
    "detector.setModelTypeAsRetinaNet()"
   ]
  },
  {
   "cell_type": "code",
   "execution_count": 12,
   "metadata": {},
   "outputs": [],
   "source": [
    "detector.setModelPath( r\"C:\\Users\\Rakesh Amman\\Desktop\\CNN\\Object Detection\\resnet50_coco_best_v2.0.1.h5\")"
   ]
  },
  {
   "cell_type": "code",
   "execution_count": 14,
   "metadata": {},
   "outputs": [],
   "source": [
    "detector.loadModel()\n",
    "detections = detector.detectObjectsFromImage(input_image=r\"C:\\Users\\Rakesh Amman\\Desktop\\CNN\\Object Detection\\image.jpg\", \n",
    "                                             output_image_path=r\"C:\\Users\\Rakesh Amman\\Desktop\\CNN\\Object Detection\\imagenew.jpg\")"
   ]
  },
  {
   "cell_type": "code",
   "execution_count": 15,
   "metadata": {},
   "outputs": [
    {
     "name": "stdout",
     "output_type": "stream",
     "text": [
      "airplane  :  99.90427494049072\n",
      "airplane  :  98.88185262680054\n",
      "airplane  :  98.30030798912048\n",
      "airplane  :  99.39295649528503\n"
     ]
    }
   ],
   "source": [
    "for eachObject in detections:\n",
    "    print(eachObject[\"name\"] , \" : \" , eachObject[\"percentage_probability\"] )"
   ]
  },
  {
   "cell_type": "code",
   "execution_count": null,
   "metadata": {},
   "outputs": [],
   "source": []
  },
  {
   "cell_type": "code",
   "execution_count": null,
   "metadata": {},
   "outputs": [],
   "source": []
  },
  {
   "cell_type": "code",
   "execution_count": null,
   "metadata": {},
   "outputs": [],
   "source": []
  }
 ],
 "metadata": {
  "kernelspec": {
   "display_name": "Python 3",
   "language": "python",
   "name": "python3"
  },
  "language_info": {
   "codemirror_mode": {
    "name": "ipython",
    "version": 3
   },
   "file_extension": ".py",
   "mimetype": "text/x-python",
   "name": "python",
   "nbconvert_exporter": "python",
   "pygments_lexer": "ipython3",
   "version": "3.7.3"
  }
 },
 "nbformat": 4,
 "nbformat_minor": 2
}
